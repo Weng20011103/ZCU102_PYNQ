{
 "cells": [
  {
   "cell_type": "code",
   "execution_count": 1,
   "id": "aec425f3",
   "metadata": {},
   "outputs": [
    {
     "data": {
      "application/javascript": "\ntry {\nrequire(['notebook/js/codecell'], function(codecell) {\n  codecell.CodeCell.options_default.highlight_modes[\n      'magic_text/x-csrc'] = {'reg':[/^%%microblaze/]};\n  Jupyter.notebook.events.one('kernel_ready.Kernel', function(){\n      Jupyter.notebook.get_cells().map(function(cell){\n          if (cell.cell_type == 'code'){ cell.auto_highlight(); } }) ;\n  });\n});\n} catch (e) {};\n"
     },
     "metadata": {},
     "output_type": "display_data"
    },
    {
     "data": {
      "application/javascript": "\ntry {\nrequire(['notebook/js/codecell'], function(codecell) {\n  codecell.CodeCell.options_default.highlight_modes[\n      'magic_text/x-csrc'] = {'reg':[/^%%pybind11/]};\n  Jupyter.notebook.events.one('kernel_ready.Kernel', function(){\n      Jupyter.notebook.get_cells().map(function(cell){\n          if (cell.cell_type == 'code'){ cell.auto_highlight(); } }) ;\n  });\n});\n} catch (e) {};\n"
     },
     "metadata": {},
     "output_type": "display_data"
    }
   ],
   "source": [
    "import time\n",
    "from pynq import Overlay"
   ]
  },
  {
   "cell_type": "code",
   "execution_count": 2,
   "id": "2607c221",
   "metadata": {},
   "outputs": [
    {
     "name": "stdout",
     "output_type": "stream",
     "text": [
      "dac_demo.bit  dac_demo.hwh  dac_demo.ipynb  overlay.txt\r\n"
     ]
    }
   ],
   "source": [
    "!ls"
   ]
  },
  {
   "cell_type": "code",
   "execution_count": 3,
   "id": "ca17ee73",
   "metadata": {},
   "outputs": [],
   "source": [
    "overlay = Overlay('dac_demo.bit')"
   ]
  },
  {
   "cell_type": "code",
   "execution_count": 4,
   "id": "3975e58e",
   "metadata": {},
   "outputs": [],
   "source": [
    "overlay?"
   ]
  },
  {
   "cell_type": "code",
   "execution_count": 5,
   "id": "9fb872cf",
   "metadata": {},
   "outputs": [
    {
     "name": "stdout",
     "output_type": "stream",
     "text": [
      "Decimal representation: 2730\n",
      "DAC voltage is 2.2 V\n"
     ]
    },
    {
     "data": {
      "text/plain": [
       "int"
      ]
     },
     "execution_count": 5,
     "metadata": {},
     "output_type": "execute_result"
    }
   ],
   "source": [
    "DATA = 0b101010101010\n",
    "print(f\"Decimal representation: {int(DATA)}\")\n",
    "print(f\"DAC voltage is {3.3*int(DATA)/int(0b111111111111)} V\")\n",
    "type(DATA)"
   ]
  },
  {
   "cell_type": "code",
   "execution_count": 6,
   "id": "4b959574",
   "metadata": {},
   "outputs": [],
   "source": [
    "# CH1 CLK, 2V/\n",
    "# CH2 SDI, 5V/\n",
    "# CH3 LD, 5V/\n",
    "# CH4 Vout, 2V/\n",
    "# 55ms/\n",
    "# Trigger, CLK fall\n",
    "overlay.dac_gpio.write(0, 0b1111)\n",
    "\n",
    "# Give 12 bits to DAC register\n",
    "for i in range(12):\n",
    "    time.sleep(0.001)\n",
    "    overlay.dac_gpio.write(0, 0b0111)\n",
    "    time.sleep(0.001)\n",
    "    if i % 2 == 1:\n",
    "        overlay.dac_gpio.write(0, 0b1011) # SDI into register\n",
    "    else:\n",
    "        overlay.dac_gpio.write(0, 0b1111) # SDI into register\n",
    "\n",
    "overlay.dac_gpio.write(0, 0b1101) # Load DATA\n",
    "time.sleep(0.001)\n",
    "overlay.dac_gpio.write(0, 0b1111)"
   ]
  },
  {
   "cell_type": "code",
   "execution_count": 7,
   "id": "0cdc1044",
   "metadata": {},
   "outputs": [],
   "source": [
    "overlay.dac_gpio.write(0, 0b1110) # Clear DATA\n",
    "time.sleep(0.001)\n",
    "overlay.dac_gpio.write(0, 0b1111)"
   ]
  },
  {
   "cell_type": "code",
   "execution_count": 8,
   "id": "98f75e3a",
   "metadata": {},
   "outputs": [
    {
     "name": "stdout",
     "output_type": "stream",
     "text": [
      "Decimal representation: 1365\n",
      "DAC voltage is 1.1 V\n"
     ]
    }
   ],
   "source": [
    "DATA = 0b010101010101\n",
    "print(f\"Decimal representation: {int(DATA)}\")\n",
    "print(f\"DAC voltage is {3.3*int(DATA)/int(0b111111111111)} V\")"
   ]
  },
  {
   "cell_type": "code",
   "execution_count": 9,
   "id": "f9a19751",
   "metadata": {},
   "outputs": [],
   "source": [
    "# CH1 CLK, 2V/\n",
    "# CH2 SDI, 5V/\n",
    "# CH3 LD, 5V/\n",
    "# CH4 Vout, 2V/\n",
    "# 55ms/\n",
    "# Trigger, CLK fall\n",
    "overlay.dac_gpio.write(0, 0b1111)\n",
    "\n",
    "# Give 12 bits to DAC register\n",
    "for i in range(12):\n",
    "    time.sleep(0.001)\n",
    "    overlay.dac_gpio.write(0, 0b0111)\n",
    "    time.sleep(0.001)\n",
    "    if i % 2 == 1:\n",
    "        overlay.dac_gpio.write(0, 0b1111) # SDI into register\n",
    "    else:\n",
    "        overlay.dac_gpio.write(0, 0b1011) # SDI into register\n",
    "\n",
    "overlay.dac_gpio.write(0, 0b1101) # Load DATA\n",
    "time.sleep(0.001)\n",
    "overlay.dac_gpio.write(0, 0b1111)"
   ]
  },
  {
   "cell_type": "code",
   "execution_count": 10,
   "id": "25038787",
   "metadata": {},
   "outputs": [],
   "source": [
    "overlay.dac_gpio.write(0, 0b1110) # Clear DATA\n",
    "time.sleep(0.001)\n",
    "overlay.dac_gpio.write(0, 0b1111)"
   ]
  }
 ],
 "metadata": {
  "kernelspec": {
   "display_name": "Python 3",
   "language": "python",
   "name": "python3"
  },
  "language_info": {
   "codemirror_mode": {
    "name": "ipython",
    "version": 3
   },
   "file_extension": ".py",
   "mimetype": "text/x-python",
   "name": "python",
   "nbconvert_exporter": "python",
   "pygments_lexer": "ipython3",
   "version": "3.8.2"
  }
 },
 "nbformat": 4,
 "nbformat_minor": 5
}
