{
 "cells": [
  {
   "cell_type": "code",
   "execution_count": 1,
   "id": "46486755",
   "metadata": {},
   "outputs": [
    {
     "data": {
      "application/javascript": [
       "\n",
       "try {\n",
       "require(['notebook/js/codecell'], function(codecell) {\n",
       "  codecell.CodeCell.options_default.highlight_modes[\n",
       "      'magic_text/x-csrc'] = {'reg':[/^%%microblaze/]};\n",
       "  Jupyter.notebook.events.one('kernel_ready.Kernel', function(){\n",
       "      Jupyter.notebook.get_cells().map(function(cell){\n",
       "          if (cell.cell_type == 'code'){ cell.auto_highlight(); } }) ;\n",
       "  });\n",
       "});\n",
       "} catch (e) {};\n"
      ]
     },
     "metadata": {},
     "output_type": "display_data"
    },
    {
     "data": {
      "application/javascript": [
       "\n",
       "try {\n",
       "require(['notebook/js/codecell'], function(codecell) {\n",
       "  codecell.CodeCell.options_default.highlight_modes[\n",
       "      'magic_text/x-csrc'] = {'reg':[/^%%pybind11/]};\n",
       "  Jupyter.notebook.events.one('kernel_ready.Kernel', function(){\n",
       "      Jupyter.notebook.get_cells().map(function(cell){\n",
       "          if (cell.cell_type == 'code'){ cell.auto_highlight(); } }) ;\n",
       "  });\n",
       "});\n",
       "} catch (e) {};\n"
      ]
     },
     "metadata": {},
     "output_type": "display_data"
    }
   ],
   "source": [
    "import numpy as np\n",
    "from pynq import allocate\n",
    "from pynq import Overlay"
   ]
  },
  {
   "cell_type": "code",
   "execution_count": 2,
   "id": "b294a80d",
   "metadata": {},
   "outputs": [],
   "source": [
    "overlay = Overlay('dma2.bit')"
   ]
  },
  {
   "cell_type": "code",
   "execution_count": 3,
   "id": "985c86da",
   "metadata": {},
   "outputs": [],
   "source": [
    "dma = overlay.dma"
   ]
  },
  {
   "cell_type": "code",
   "execution_count": 4,
   "id": "cbdcc2dc",
   "metadata": {},
   "outputs": [],
   "source": [
    "input_buffer = allocate(shape=(5,), dtype=np.uint32)\n",
    "output_buffer = allocate(shape=(5,), dtype=np.uint32)"
   ]
  },
  {
   "cell_type": "code",
   "execution_count": 5,
   "id": "2290ad0f",
   "metadata": {},
   "outputs": [],
   "source": [
    "for i in range(5):\n",
    "   input_buffer[i] = i"
   ]
  },
  {
   "cell_type": "code",
   "execution_count": 6,
   "id": "3497b76c",
   "metadata": {},
   "outputs": [
    {
     "name": "stdout",
     "output_type": "stream",
     "text": [
      "0x0\n",
      "0x1\n",
      "0x2\n",
      "0x3\n",
      "0x4\n"
     ]
    }
   ],
   "source": [
    "for i in range(5):\n",
    "    print(hex(input_buffer[i]))"
   ]
  },
  {
   "cell_type": "code",
   "execution_count": 7,
   "id": "9ea78ba9",
   "metadata": {},
   "outputs": [
    {
     "name": "stdout",
     "output_type": "stream",
     "text": [
      "0x00\n",
      "0x00\n",
      "0x00\n",
      "0x00\n",
      "0x00\n"
     ]
    }
   ],
   "source": [
    "for i in range(5):\n",
    "    print('0x' + format(output_buffer[i], '02x'))"
   ]
  },
  {
   "cell_type": "code",
   "execution_count": 8,
   "id": "55462c99",
   "metadata": {},
   "outputs": [],
   "source": [
    "dma.sendchannel.transfer(input_buffer)\n",
    "dma.recvchannel.transfer(output_buffer)\n",
    "dma.sendchannel.wait()\n",
    "dma.recvchannel.wait()"
   ]
  },
  {
   "cell_type": "code",
   "execution_count": 9,
   "id": "d0a4478f",
   "metadata": {},
   "outputs": [
    {
     "name": "stdout",
     "output_type": "stream",
     "text": [
      "0x00\n",
      "0x01\n",
      "0x02\n",
      "0x03\n",
      "0x04\n"
     ]
    }
   ],
   "source": [
    "for i in range(5):\n",
    "    print('0x' + format(output_buffer[i], '02x'))"
   ]
  },
  {
   "cell_type": "code",
   "execution_count": 10,
   "id": "0d7c9bbb",
   "metadata": {},
   "outputs": [],
   "source": [
    "del input_buffer, output_buffer"
   ]
  }
 ],
 "metadata": {
  "kernelspec": {
   "display_name": "Python 3",
   "language": "python",
   "name": "python3"
  },
  "language_info": {
   "codemirror_mode": {
    "name": "ipython",
    "version": 3
   },
   "file_extension": ".py",
   "mimetype": "text/x-python",
   "name": "python",
   "nbconvert_exporter": "python",
   "pygments_lexer": "ipython3",
   "version": "3.8.2"
  }
 },
 "nbformat": 4,
 "nbformat_minor": 5
}
